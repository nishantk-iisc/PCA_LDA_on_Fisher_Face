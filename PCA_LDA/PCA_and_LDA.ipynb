{
 "cells": [
  {
   "cell_type": "markdown",
   "id": "5361c574",
   "metadata": {},
   "source": [
    "### PCA and LDA on Fischer Faces Dataset\n",
    "\n",
    "Performed PCA on to reduce the dimension form 10201 to K using PCA for high dimensional data and then performed LDA on it to one dimension.\n",
    "\n",
    "Libraries Used:\n",
    "1. Numpy - for numerical computations such as eig(), matmul(), dot product etc.\n",
    "2. Pillow - to read the .gif file\n",
    "3. Matplotlib - to plot the graph"
   ]
  },
  {
   "cell_type": "code",
   "execution_count": 266,
   "id": "8bf080f3",
   "metadata": {},
   "outputs": [],
   "source": [
    "import numpy as np\n",
    "from PIL import Image\n",
    "import matplotlib.pyplot as plt\n",
    "import os"
   ]
  },
  {
   "cell_type": "markdown",
   "id": "dbd6e5a6",
   "metadata": {},
   "source": [
    "### Function get_data()\n",
    "\n",
    "Input:\n",
    "    folder name - either train or test\n",
    "   \n",
    "Output:\n",
    "    the image data of dimension 101 X 101 is returned as numpy array X of shape (Number of image in folder, dimension of image)\n",
    "    \n",
    "   Labels - Happy(1) or Sad(2) - of the corresponding images\n",
    "   "
   ]
  },
  {
   "cell_type": "code",
   "execution_count": 267,
   "id": "25209c8a",
   "metadata": {},
   "outputs": [],
   "source": [
    "def get_data(folder):\n",
    "    labels = [[], []]    \n",
    "\n",
    "    for dirname, _, filenames in os.walk(\"Data/emotion_classification/\"+ folder):\n",
    "        i = 0\n",
    "        for filename in filenames:   \n",
    "            if \"happy\" in filename:\n",
    "                labels[0].append(i)\n",
    "            else:\n",
    "                labels[1].append(i)\n",
    "            i+=1\n",
    "\n",
    "            gif = Image.open(os.path.join(dirname, filename))\n",
    "\n",
    "            data = np.asarray(gif)\n",
    "\n",
    "            x = data.reshape(1,101*101)\n",
    "\n",
    "            if i == 1:\n",
    "                X = x\n",
    "            else:\n",
    "                X = np.vstack((X, x))\n",
    "\n",
    "    print(\"Input Data Shape\", X.shape)\n",
    "    print(\"Input Data\", X)\n",
    "    return X, labels"
   ]
  },
  {
   "cell_type": "code",
   "execution_count": 268,
   "id": "8208f604",
   "metadata": {},
   "outputs": [
    {
     "name": "stdout",
     "output_type": "stream",
     "text": [
      "Input Data Shape (20, 10201)\n",
      "Input Data [[ 23  20  17 ... 121 215 255]\n",
      " [ 25  34  46 ... 163 227 255]\n",
      " [133 142 146 ...  95  95  95]\n",
      " ...\n",
      " [ 40  54  67 ...  34  32  32]\n",
      " [100 103 108 ... 109 117 103]\n",
      " [ 17  24  31 ...  61  59  54]]\n"
     ]
    }
   ],
   "source": [
    "X, labels = get_data('train')"
   ]
  },
  {
   "cell_type": "markdown",
   "id": "1ffb5882",
   "metadata": {},
   "source": [
    "### function calculate_mean()\n",
    "\n",
    "Input:\n",
    "\n",
    "    x - any numpy array\n",
    "\n",
    "Output:\n",
    "\n",
    "    mean of the input dat calculated along the column"
   ]
  },
  {
   "cell_type": "code",
   "execution_count": 269,
   "id": "bf1948a3",
   "metadata": {},
   "outputs": [],
   "source": [
    "def calculate_mean(X):\n",
    "    mean = np.sum(X, axis=0)\n",
    "    mean = mean / len(X)\n",
    "    print(\"mean of input\", mean.shape, mean)\n",
    "    return mean"
   ]
  },
  {
   "cell_type": "code",
   "execution_count": 270,
   "id": "d443f12b",
   "metadata": {},
   "outputs": [
    {
     "name": "stdout",
     "output_type": "stream",
     "text": [
      "mean of input (10201,) [ 59.65  66.    70.85 ... 101.25 110.15 118.55]\n"
     ]
    }
   ],
   "source": [
    "mean = calculate_mean(X).reshape(10201, 1)"
   ]
  },
  {
   "cell_type": "markdown",
   "id": "576bb26b",
   "metadata": {},
   "source": [
    "### Calculating the mean centered data\n",
    "\n",
    "#### $ X_c = X - \\mu $"
   ]
  },
  {
   "cell_type": "code",
   "execution_count": 271,
   "id": "2d9dceb6",
   "metadata": {},
   "outputs": [
    {
     "name": "stdout",
     "output_type": "stream",
     "text": [
      "mean centered input data:  (20, 10201) [[-36.65 -46.   -53.85 ...  19.75 104.85 136.45]\n",
      " [-34.65 -32.   -24.85 ...  61.75 116.85 136.45]\n",
      " [ 73.35  76.    75.15 ...  -6.25 -15.15 -23.55]\n",
      " ...\n",
      " [-19.65 -12.    -3.85 ... -67.25 -78.15 -86.55]\n",
      " [ 40.35  37.    37.15 ...   7.75   6.85 -15.55]\n",
      " [-42.65 -42.   -39.85 ... -40.25 -51.15 -64.55]]\n"
     ]
    }
   ],
   "source": [
    "X_centered = X - mean.T\n",
    "print(\"mean centered input data: \", X_centered.shape, X_centered)"
   ]
  },
  {
   "cell_type": "markdown",
   "id": "28f39276",
   "metadata": {},
   "source": [
    "## Class PCA\n",
    "### function fit()\n",
    "\n",
    "Input:\n",
    "    X - input data points\n",
    "performs:\n",
    "####    Eigen Analysis on $\\frac{1}{N}xx^T$ => Eigen Vectors $\\{v_1, v_2, ..., v_d\\}$ and Eigen Values$\\{\\lambda_1, \\lambda_2, ..., \\lambda_d\\}$\n",
    "Sort the eigen vector based on the magnitude of eigen values in non-increasing order\n",
    "\n",
    "#### Compute the original Eigen Vector $u_i = \\frac{1}{\\sqrt(\\lambda_iN)}x^Tv_i$\n",
    "\n",
    "Stores the original eigen vectors in it's class attributes\n",
    "\n",
    "### Function transform()\n",
    "\n",
    "#### Input\n",
    "X - Input data points to project \n",
    "\n",
    "#### Computes projected data points $y_i = U^Tx_n$\n",
    "\n",
    "### Function fit_transform()\n",
    "\n",
    "Performs fit and transform on the same input data points\n"
   ]
  },
  {
   "cell_type": "code",
   "execution_count": 272,
   "id": "3f198532",
   "metadata": {},
   "outputs": [],
   "source": [
    "class PCA:\n",
    "    def __init__(self, num_components):\n",
    "        self.num_components = num_components\n",
    "        self.principal_components = None\n",
    "        \n",
    "    def fit(self, X):\n",
    "        N = len(X)\n",
    "        data = np.matmul(X, X.T) / len(X)\n",
    "        \n",
    "        eigenValues, eigenVectors = np.linalg.eigh(data)\n",
    "        \n",
    "        idx = eigenValues.argsort()[::-1]   \n",
    "        eigenValues = eigenValues[idx]\n",
    "        eigenVectors = eigenVectors[:,idx]\n",
    "        \n",
    "        for i in range(self.num_components):\n",
    "            u = (X.T.dot(eigenVectors.T[i])) / ((N*eigenValues[i])**(1/2))\n",
    "            \n",
    "            if i == 0:\n",
    "                U = u\n",
    "            else:\n",
    "                U = np.vstack((U, u))\n",
    "        print(\"Original Eigen vector\", U.shape, U)\n",
    "        \n",
    "        self.principal_components = U\n",
    "        return U\n",
    "    \n",
    "    def transform(self, X):\n",
    "        U = self.principal_components\n",
    "        P = U.dot(X.T)\n",
    "        print(\"Projected Data\", P.T.shape, P.T)\n",
    "        return P\n",
    "    \n",
    "    def fit_transform(self, X):\n",
    "        self.fit(X)\n",
    "        return self.transform(X)\n",
    "        "
   ]
  },
  {
   "cell_type": "code",
   "execution_count": 273,
   "id": "1312eb1e",
   "metadata": {},
   "outputs": [
    {
     "name": "stdout",
     "output_type": "stream",
     "text": [
      "Original Eigen vector (17, 10201) [[ 0.00115826  0.00150926  0.00197879 ... -0.0008064  -0.00046737\n",
      "  -0.0034823 ]\n",
      " [-0.01789599 -0.01738252 -0.01712507 ... -0.01894991 -0.01928142\n",
      "  -0.02171333]\n",
      " [ 0.00217229  0.00105655  0.0005249  ...  0.03429417  0.04331959\n",
      "   0.04319925]\n",
      " ...\n",
      " [-0.0068297  -0.00706774 -0.00711378 ... -0.01074867  0.00415079\n",
      "  -0.003098  ]\n",
      " [-0.01300381 -0.01017989 -0.00831078 ...  0.02271688  0.01227954\n",
      "   0.01389118]\n",
      " [-0.00746346 -0.00434221 -0.00113804 ... -0.00517495 -0.01904807\n",
      "  -0.00527319]]\n"
     ]
    }
   ],
   "source": [
    "K = 17\n",
    "\n",
    "pca = PCA(K)\n",
    "U = pca.fit(X_centered)"
   ]
  },
  {
   "cell_type": "code",
   "execution_count": 274,
   "id": "42b2cddf",
   "metadata": {},
   "outputs": [
    {
     "name": "stdout",
     "output_type": "stream",
     "text": [
      "Projected Data (20, 17) [[-1.19308200e+03  1.18829989e+03  2.82929986e+03  6.85637317e+02\n",
      "   5.55069124e+02  3.32762727e+02 -1.51454884e+02  9.13082749e+02\n",
      "   3.26480452e+02  1.46029176e+02 -2.38737669e+02  4.66057480e+02\n",
      "  -6.23194260e+02 -5.45722188e+02  5.37830887e+02 -4.59653009e+02\n",
      "  -6.65332601e+02]\n",
      " [ 3.24018556e+03 -9.95571304e+02  3.69112829e+02  4.57189235e+02\n",
      "   7.90584663e+01 -1.36421608e+02 -1.54980039e+02  7.05972065e+02\n",
      "  -1.10751447e+03 -1.21294669e+03  8.43996328e+02 -2.73655841e+02\n",
      "  -8.81573771e+02  2.81502162e+02  2.43645217e+02  1.08519156e+02\n",
      "   2.97682722e+02]\n",
      " [ 5.20109637e+03 -1.51431966e+03 -6.23638011e+01  1.51882640e+03\n",
      "   1.66374430e+02  1.33737649e+03  1.07596592e+03 -4.04672484e+02\n",
      "   8.13433020e+02  8.02790515e+02  7.52176834e+01  1.03121413e+02\n",
      "   1.21980106e+01 -1.16132971e+02 -1.28897232e+02  7.96318550e+01\n",
      "   3.30602230e+00]\n",
      " [-1.06680773e+03  1.02703207e+03  3.09012052e+03  3.51169661e+02\n",
      "   1.04229928e+03  8.11043690e+02 -1.87773380e+02  7.74137848e+01\n",
      "  -1.82290331e+02 -3.48041714e+02 -2.92163827e+02 -1.77415048e+02\n",
      "   6.35972736e+02  3.36055019e+02 -7.31186646e+02  1.72617642e+02\n",
      "   6.85459301e+02]\n",
      " [-1.92085684e+03 -3.12666481e+03  2.19343125e+02 -9.18049558e+02\n",
      "   1.48558679e+03  2.52781803e+02  5.95248647e+02 -3.25868901e+02\n",
      "  -1.05200548e+03  5.45020396e+02 -1.60691035e+01 -4.89805698e+02\n",
      "   4.11817281e+02  1.48503615e+02  4.06522778e+02  1.47932206e+02\n",
      "  -5.19466088e+02]\n",
      " [-2.11088887e+02 -1.01264851e+03  5.91784516e+01 -4.65716231e+02\n",
      "  -1.42073457e+03 -5.81803680e+02  4.46086309e+02  1.75461178e+02\n",
      "  -2.19142673e+01 -3.66943600e+01 -6.56542450e+02  3.01307908e+02\n",
      "  -3.76932509e+02 -2.85165928e+02 -1.36635755e+02 -2.78620352e+02\n",
      "   2.01688967e+02]\n",
      " [-1.55546271e+02  2.37959068e+03  5.13650700e+02  1.99990174e+01\n",
      "  -1.49302048e+02 -8.65469528e+02  4.18611095e+02 -1.43445671e+03\n",
      "  -2.31553234e+02  5.05291738e+02  5.73352932e+02 -1.15499732e+03\n",
      "  -2.62588326e+02 -8.59489679e+02  1.78455135e+02  1.74704059e+02\n",
      "   2.13637156e+02]\n",
      " [ 9.90810909e+02  6.14236962e+02  1.33162308e+03 -2.00359389e+01\n",
      "  -1.40704157e+03 -1.65053873e+03  6.68893959e+02  6.66476942e+02\n",
      "   1.74039050e+02  5.46970122e+02 -3.40930892e+01  1.18538457e+02\n",
      "   6.74040858e+02  8.07847031e+02  5.76115352e+02  5.10894536e+02\n",
      "  -1.67904716e+01]\n",
      " [-6.10863741e+02  1.23450256e+03 -2.29757987e+03  1.78225274e+03\n",
      "  -3.30321584e+02  3.90921551e+02  4.85717401e+02  8.26414213e+02\n",
      "  -8.67545455e+02 -3.27560885e+02 -1.21382729e+03 -5.57793809e+02\n",
      "   4.20514826e+02 -3.20395136e+02 -2.95663626e+01  9.62517785e+00\n",
      "  -1.00296511e+02]\n",
      " [ 4.40952092e+03  1.00934007e+03 -5.80486070e+02 -1.89986989e+03\n",
      "   6.92338104e+02 -2.14247685e+02 -1.90985680e+03  2.33191872e+02\n",
      "   1.73766320e+01  4.82256972e+02 -8.03589023e+02 -3.36219961e+02\n",
      "   2.56053637e+01  3.26138110e+01 -4.49266106e+01 -4.53163259e+01\n",
      "  -1.38091619e+02]\n",
      " [-1.79678442e+03 -2.66659231e+02 -8.32280755e+02  3.53870513e+01\n",
      "  -4.80123380e+02  1.38522828e+03 -8.22654705e+02 -1.96534295e+02\n",
      "   6.37062236e+02  1.38698836e+02  2.20937041e+02 -2.91254371e+02\n",
      "   2.64879923e+02  3.25478221e+02  9.86237379e+02 -6.22119444e+02\n",
      "   6.76247550e+02]\n",
      " [-1.28105323e+03  4.68441586e+02 -5.91592483e+02  1.14338836e+03\n",
      "  -7.67637380e+02  5.16816538e+02 -1.56747213e+03 -5.49544718e+02\n",
      "  -9.94023263e+02  8.49394879e+02  5.77406183e+02  1.12231120e+03\n",
      "  -4.48187310e+01  5.64912416e+01 -2.06597586e+02  4.60242038e+02\n",
      "  -1.62612217e+02]\n",
      " [-1.44207768e+02  1.32020835e+03 -1.27700981e+03 -1.43014383e+03\n",
      "   2.23796089e+02  4.12632056e+02  6.55572484e+02  6.73014540e+02\n",
      "  -1.41513955e+02 -5.37880654e+02  8.09269872e+02  5.36426691e+02\n",
      "   4.81122219e+02 -3.63254028e+02  1.58475262e+02 -8.65434450e+01\n",
      "   5.99506175e+01]\n",
      " [ 5.42877701e+01  9.22945537e+02 -2.26270820e+02 -5.69477210e+02\n",
      "  -4.37434777e+02 -1.34737982e+02  8.52322356e+02 -4.11044500e+02\n",
      "  -4.86179929e+02  3.94417912e+02  3.06617008e+02  6.23515457e+01\n",
      "  -1.37707635e+02  7.21958746e+02 -7.29719427e+02 -1.17217313e+03\n",
      "  -2.52709730e+02]\n",
      " [-2.69433470e+03 -1.74924450e+03 -9.08927193e+02  4.28432479e+01\n",
      "   4.40277685e+02 -9.22300201e+02 -2.51138897e+02  1.34867444e+03\n",
      "   6.03528604e+02  9.64862731e+02  2.59628180e+02 -3.47390303e+02\n",
      "  -5.83457928e+02 -2.02135927e+02 -5.51905380e+02  1.22909287e+02\n",
      "   4.73376714e+02]\n",
      " [-8.14204805e+02 -1.70565189e+03  8.52302420e+02 -1.29608073e+03\n",
      "  -1.25719754e+03  4.96465530e+02  1.31308478e+02 -1.02058734e+03\n",
      "  -8.39940343e+01 -6.04122813e+02 -9.00495815e+02  3.89639859e+02\n",
      "  -3.60488461e+02 -3.12079862e+02 -4.65078313e+01  2.65482208e+02\n",
      "   1.78961971e+02]\n",
      " [-7.34637311e+01  9.56606099e+02 -8.09959534e+02 -1.24085596e+03\n",
      "   4.04823047e+02  6.26832159e+02  7.98685734e+02  3.21697523e+02\n",
      "   5.87881610e+02 -2.08217474e+02  3.62995084e+02  6.15824160e+02\n",
      "   1.70566901e+02 -3.53238117e+02 -2.19442874e+02  5.27701730e+02\n",
      "  -8.08545114e+01]\n",
      " [-3.40443249e+02  3.12264916e+02 -1.23149815e+03  9.19287207e+02\n",
      "   1.94229680e+03 -1.67858428e+03  1.75326486e+02 -1.06178222e+03\n",
      "   3.88085634e+02 -4.94669673e+02 -4.90141838e+02  9.32353777e+02\n",
      "  -2.02088471e+02  3.19809122e+02  2.74678409e+02 -9.18722285e+01\n",
      "   2.46341732e+02]\n",
      " [ 3.16281385e+02 -1.90162230e+03  2.87187266e+02  7.91897766e+02\n",
      "  -4.97474122e+02 -1.04059059e+03 -1.08234113e+03 -2.26703714e+02\n",
      "   6.36766308e+02 -9.41922551e+02  5.71754036e+02 -2.37931308e+02\n",
      "   9.73380253e+02 -5.27643748e+02 -3.46219338e+02 -3.43327690e+02\n",
      "  -4.38132713e+02]\n",
      " [-1.90944553e+03  8.38913483e+02 -7.33849776e+02  9.23513319e+01\n",
      "  -2.84652850e+02  6.61833453e+02 -1.76066907e+02 -3.10204426e+02\n",
      "   9.83880870e+02 -6.63676462e+02  4.44857570e+01 -7.81468826e+02\n",
      "  -5.97248278e+02  8.54998618e+02 -1.90355376e+02  5.19365723e+02\n",
      "  -6.62366291e+02]]\n"
     ]
    }
   ],
   "source": [
    "P= pca.transform(X_centered)"
   ]
  },
  {
   "cell_type": "markdown",
   "id": "e95cc24e",
   "metadata": {},
   "source": [
    "### Function get_labels()\n",
    "\n",
    "Return the label vector with each entry corresponding to the label of each image in data point"
   ]
  },
  {
   "cell_type": "code",
   "execution_count": 275,
   "id": "99a98a8c",
   "metadata": {},
   "outputs": [],
   "source": [
    "def get_labels(labels):\n",
    "    y = []\n",
    "    \n",
    "    N = sum([len(i) for i in labels])\n",
    "    for i in range(N):\n",
    "        if i in labels[0]:\n",
    "            y.append(1)\n",
    "        else:\n",
    "            y.append(2)\n",
    "\n",
    "    print(\"Labels\", y)\n",
    "    return y"
   ]
  },
  {
   "cell_type": "markdown",
   "id": "323ad783",
   "metadata": {},
   "source": [
    "## Class LDA\n",
    "### Function fit()\n",
    "\n",
    "Inputs:\n",
    "\n",
    "X-Input data point, y-Corresponding labels\n",
    "\n",
    "## Calculates\n",
    "### Mean for each class\n",
    "### $ m_i = \\frac{1}{N_1} \\sum_{n \\in c_1} X_{n'}$\n",
    "\n",
    "where i = 1, 2\n",
    "\n",
    "### Within-class Scatter Matrix\n",
    "### $S_W = \\frac{1}{N_1} \\sum_{n \\in c_1}(x_n - m_1)(x_n - m_1)^T + \\frac{1}{N_2} \\sum_{n \\in c_2}$\n",
    "\n",
    "### Between-class Scatter Matrix\n",
    "#### $ S_B = (m_2 - m_1)(m_2 - m_1)^T$\n",
    "\n",
    "### Performs Eigen analysis on $S_W^{-1}S_B$ => Eigen Vectors, Eigen Values\n",
    "\n",
    "Sort the Eigen Vectors based on the magnitude of the corresponding Eigen Value in non-increasing order\n",
    "\n",
    "### Linear Discriminant w = Eigen Vector corresponding to the largest Eigen Value\n",
    "\n",
    "Stores the Linear Discriminant in it's class attribute\n",
    "\n",
    "### Function transform()\n",
    "\n",
    "Computes the project data points on the Linear Discriminant\n",
    "\n",
    "#### $ y_n = w^Tx_n $\n",
    "\n",
    "### Function fit_transform()\n",
    "\n",
    "Performs both fit and transform on the same data points"
   ]
  },
  {
   "cell_type": "code",
   "execution_count": 276,
   "id": "da8d5837",
   "metadata": {},
   "outputs": [],
   "source": [
    "class LDA:\n",
    "\n",
    "    def __init__(self, num_components):\n",
    "        self.num_components = num_components\n",
    "        self.linear_discriminant = None\n",
    "\n",
    "    def fit(self, X, y):\n",
    "        classes = np.unique(y)\n",
    "\n",
    "        Sw = np.zeros((K, K))\n",
    "        Sb = np.zeros((K, K))\n",
    "        \n",
    "        for i in classes:\n",
    "            X_c = X[labels[i-1]]\n",
    "            \n",
    "            mean_c = calculate_mean(X_c).reshape(1, K)\n",
    "            \n",
    "            if i == 1:\n",
    "                mean1 = mean_c\n",
    "                Sw += (np.matmul((X_c - mean_c).T, (X_c - mean_c)) / len(labels[0]))\n",
    "            else:\n",
    "                mean2 = mean_c\n",
    "                Sw += (np.matmul((X_c - mean_c).T, (X_c - mean_c)) / len(labels[1]))\n",
    "        \n",
    "        mean_difference = (mean2 - mean1).reshape(K,1)\n",
    "        \n",
    "        Sb +=  (mean_difference).dot(mean_difference.T)\n",
    "\n",
    "        S = np.linalg.inv(Sw).dot(Sb)\n",
    "\n",
    "        eigenValues, eigenVectors = np.linalg.eig(S)\n",
    "        \n",
    "        idx = eigenValues.argsort()[::-1]   \n",
    "        eigenValues = eigenValues[idx]\n",
    "        eigenVectors = eigenVectors[:,idx]\n",
    "        \n",
    "        eigenVectors = eigenVectors.real\n",
    "        self.linear_discriminant = eigenVectors.T[0]\n",
    "\n",
    "    def transform(self, X):\n",
    "        return np.dot(self.linear_discriminant, X.T)\n",
    "    \n",
    "    def fit_transform(self, X, y):\n",
    "        fit(X, y)\n",
    "        return transform(X)"
   ]
  },
  {
   "cell_type": "markdown",
   "id": "69fb3ed2",
   "metadata": {},
   "source": [
    "### Computes the Linear discriminat based on the projected data points from PCA"
   ]
  },
  {
   "cell_type": "code",
   "execution_count": 277,
   "id": "98e10e91",
   "metadata": {},
   "outputs": [
    {
     "name": "stdout",
     "output_type": "stream",
     "text": [
      "Labels [2, 2, 1, 1, 1, 2, 2, 2, 2, 2, 1, 1, 2, 2, 2, 1, 1, 1, 1, 2]\n",
      "mean of input (17,) [-197.35958317 -638.95258043  102.36206762  144.99668997  226.54976984\n",
      "  300.8188473   -98.18956449 -376.28692888   83.43507757  -29.00773317\n",
      "   12.15993823  218.53822016  206.82438227  -13.6397201    -1.26810471\n",
      "   66.25425753   65.47233866]\n",
      "mean of input (17,) [ 161.4760226   522.77938399  -83.7507826  -118.63365543 -185.35890259\n",
      " -246.12451143   80.3369164   307.87112363  -68.26506347   23.73359986\n",
      "   -9.94904037 -178.80399831 -169.21994913   11.15977099    1.03754022\n",
      "  -54.20802889  -53.56827709]\n"
     ]
    }
   ],
   "source": [
    "lda = LDA(1)\n",
    "\n",
    "y = get_labels(labels)\n",
    "lda.fit(P.T, y)"
   ]
  },
  {
   "cell_type": "markdown",
   "id": "92ada371",
   "metadata": {},
   "source": [
    "### project and plot the graph for the train data\n",
    "\n",
    "### optimal threshold = 50"
   ]
  },
  {
   "cell_type": "code",
   "execution_count": 278,
   "id": "c4668141",
   "metadata": {},
   "outputs": [
    {
     "data": {
      "image/png": "[encoded data removed]",
      "text/plain": [
       "<Figure size 640x480 with 1 Axes>"
      ]
     },
     "metadata": {},
     "output_type": "display_data"
    }
   ],
   "source": [
    "projected_data_train = lda.transform(P.T)\n",
    "\n",
    "threshold = -50\n",
    "\n",
    "N = [0 for i in range(20)]\n",
    "\n",
    "plt.scatter(projected_data_train, N, c = y)\n",
    "plt.axvline(x = threshold, color = 'r', linestyle = '-')\n",
    "plt.show()"
   ]
  },
  {
   "cell_type": "markdown",
   "id": "c3d52563",
   "metadata": {},
   "source": [
    "### Takes in the test image data as input"
   ]
  },
  {
   "cell_type": "code",
   "execution_count": 279,
   "id": "5f0c39f3",
   "metadata": {},
   "outputs": [
    {
     "name": "stdout",
     "output_type": "stream",
     "text": [
      "Input Data Shape (10, 10201)\n",
      "Input Data [[ 58  91 111 ...  43  50  57]\n",
      " [ 18  27  26 ...  65  64  62]\n",
      " [158 167 174 ... 118 117 118]\n",
      " ...\n",
      " [110 111 111 ...  74  73  78]\n",
      " [123 123 123 ...  65  78  96]\n",
      " [119 119 118 ...  59  65  78]]\n",
      "(10, 10201)\n"
     ]
    }
   ],
   "source": [
    "X_test, labels_test = get_data('test')\n",
    "X_centered_test = X_test - mean.T\n",
    "print(X_centered_test.shape)"
   ]
  },
  {
   "cell_type": "markdown",
   "id": "99d869af",
   "metadata": {},
   "source": [
    "### PCA projects the Test data to K-dimensional vector"
   ]
  },
  {
   "cell_type": "code",
   "execution_count": 280,
   "id": "b207f6d1",
   "metadata": {},
   "outputs": [
    {
     "name": "stdout",
     "output_type": "stream",
     "text": [
      "Projected Data (10, 17) [[ 9.19511647e+02  1.69600342e+02  9.55428039e+02  6.44675360e+02\n",
      "   5.64542074e+02 -1.07681559e+03  7.49131426e+02 -6.23175572e+02\n",
      "   7.47964903e+02 -1.88638607e+02  7.99336166e+02  2.50761615e+02\n",
      "  -2.83181062e+02  1.85216036e+01 -2.54350619e+01  5.66580538e+02\n",
      "  -3.20609774e+02]\n",
      " [ 7.36721582e+02  4.00076091e+02 -9.40936062e+02  2.41534591e+02\n",
      "   7.08475580e+02 -1.12754656e+00 -3.08606636e+02  2.85292706e+02\n",
      "   7.54031537e+02 -4.31487764e+02  7.08691433e+02  4.72648427e+02\n",
      "   5.05319069e+02 -2.34102640e+02 -9.22473405e+01  2.34867298e+01\n",
      "  -1.32503232e+02]\n",
      " [ 6.11646003e+03 -4.15348601e+02 -1.37984460e+03  1.50911418e+03\n",
      "  -7.33012250e+02  7.58874543e+02  6.72982579e+02  1.20670495e+03\n",
      "  -3.08113332e+02  9.66503189e+01  3.85659617e+02 -2.12342668e+01\n",
      "   8.35006003e+01 -2.09663103e+01 -1.45486402e+02 -3.77000199e+02\n",
      "  -2.15944859e+02]\n",
      " [ 1.50241585e+01  2.00552840e+03  6.22822764e+02  1.40770780e+03\n",
      "  -7.71205503e+02  1.04418717e+03  5.67838739e+02  1.03281638e+02\n",
      "   1.92116050e+02 -3.53054036e+02  1.00805128e+03 -1.98188180e+01\n",
      "   2.91738334e+02 -4.70453754e+01 -1.75881832e+01 -2.22584412e+02\n",
      "  -7.92167204e+02]\n",
      " [ 2.31293336e+03 -5.65974666e+02  1.17094512e+03 -8.28735882e+01\n",
      "   4.23834105e+02  3.63070986e+02  2.36048002e+02 -1.39570353e+02\n",
      "  -1.06779515e+03 -1.01750324e+03  6.38499951e+02 -3.90595803e+02\n",
      "  -2.62621686e+02  4.47074804e+01 -6.88393563e+01  7.07527695e+02\n",
      "   1.83501348e+02]\n",
      " [-2.54338142e+02  1.28028383e+03 -1.17471642e+03  3.10266639e+01\n",
      "   2.52825004e+02  8.25738223e+01  2.89962614e+02  7.31829382e+02\n",
      "   2.46534218e+02 -5.80139233e+02  7.76384867e+02 -2.69577131e+02\n",
      "   2.32427173e+02 -1.69592051e+02  4.98882054e+00  1.27657875e+02\n",
      "  -2.54220736e+02]\n",
      " [ 5.74700208e+03  1.54140190e+02 -5.60832621e+02 -3.56176620e+02\n",
      "   1.23360689e+03  8.76408564e+02 -5.85795357e+02 -7.27433376e+02\n",
      "   6.13566366e+02  1.03869408e+03  4.27115287e+02  1.75311237e+02\n",
      "   1.45688228e+02 -2.86183835e+02  2.47624821e+02  2.49602214e+02\n",
      "   1.60458028e+02]\n",
      " [-3.57505753e+02 -1.59575308e+01  4.53174227e+01 -6.63898629e+02\n",
      "  -2.86591884e+01 -4.15606665e+01  3.94353854e+02 -9.48209175e+02\n",
      "   1.60169479e+02  2.45066020e+02  1.18295669e+02  3.67004125e+02\n",
      "   5.77181380e+01  1.85105407e+02 -2.87989558e+02 -6.60112890e+02\n",
      "  -1.43943623e+01]\n",
      " [ 5.74977169e+02 -5.91000330e+02 -1.51407468e+03  1.06599275e+03\n",
      "  -6.09808112e+02 -6.40765141e+02 -5.56152779e+01  9.29712960e+02\n",
      "  -2.34341583e+00 -3.25194786e+02  7.48855737e+02 -6.07908757e+02\n",
      "   6.62502649e+02 -4.89697744e+02 -1.04267549e+02 -3.14095503e+02\n",
      "  -2.99839978e+01]\n",
      " [-8.42262134e+02  7.60674614e+02  7.28990760e+02  8.14528639e+02\n",
      "   7.39489188e+01  4.32439794e+02 -2.65807445e+02  1.77796302e+02\n",
      "   1.75555940e+02 -2.91672590e+02  9.91063624e+02 -1.09630834e+02\n",
      "   1.47688063e+02  5.08518326e+01  2.13969331e+02 -4.55070129e+02\n",
      "  -5.54760385e+01]]\n"
     ]
    }
   ],
   "source": [
    "P = pca.transform(X_centered_test)"
   ]
  },
  {
   "cell_type": "markdown",
   "id": "37de2f9a",
   "metadata": {},
   "source": [
    "### The K-dimensional data points from PCA are projected onto a 1-Dimensional vector using LDA"
   ]
  },
  {
   "cell_type": "code",
   "execution_count": 281,
   "id": "e395a6bf",
   "metadata": {},
   "outputs": [],
   "source": [
    "projected_data = lda.transform(P.T)"
   ]
  },
  {
   "cell_type": "markdown",
   "id": "8586bc21",
   "metadata": {},
   "source": [
    "### Projected data points are plotted\n",
    "classification accuracy = 100%"
   ]
  },
  {
   "cell_type": "code",
   "execution_count": 282,
   "id": "d64033b0",
   "metadata": {},
   "outputs": [
    {
     "name": "stdout",
     "output_type": "stream",
     "text": [
      "Labels [1, 1, 2, 2, 1, 2, 1, 1, 2, 1]\n"
     ]
    },
    {
     "data": {
      "image/png": "[encoded data removed]",
      "text/plain": [
       "<Figure size 640x480 with 2 Axes>"
      ]
     },
     "metadata": {},
     "output_type": "display_data"
    }
   ],
   "source": [
    "N = [0 for nn in range(10)]\n",
    "\n",
    "y = get_labels(labels_test)\n",
    "\n",
    "plt.scatter(projected_data, N, c = y)\n",
    "plt.axvline(x = threshold, color = 'r', linestyle = '-')\n",
    "plt.colorbar()\n",
    "plt.show()"
   ]
  },
  {
   "cell_type": "markdown",
   "id": "985221b0",
   "metadata": {},
   "source": [
    "#### separability is computed on the projected data\n",
    "\n",
    "#### separability for K = 17 is 1.1966"
   ]
  },
  {
   "cell_type": "code",
   "execution_count": 283,
   "id": "24d91ba1",
   "metadata": {},
   "outputs": [
    {
     "name": "stdout",
     "output_type": "stream",
     "text": [
      "mean of input () 351.6685126006857\n",
      "mean of input () -501.8649315041541\n",
      "Separability: 1.196676\n"
     ]
    }
   ],
   "source": [
    "projected_data = projected_data.T\n",
    "\n",
    "mean1 = calculate_mean(projected_data[labels_test[0]])\n",
    "mean2 = calculate_mean(projected_data[labels_test[1]])\n",
    "\n",
    "s1 = (projected_data[labels_test[0]] - mean1).T.dot((projected_data[labels_test[0]] - mean1)) \n",
    "s2 = (projected_data[labels_test[1]] - mean2).T.dot((projected_data[labels_test[1]] - mean2))\n",
    "\n",
    "m = (mean2 - mean1)**2\n",
    "\n",
    "print(\"Separability:\", (m / (s1 + s2)).round(6))"
   ]
  },
  {
   "cell_type": "markdown",
   "id": "eb5643c1",
   "metadata": {},
   "source": [
    "### K value that gives maximum separability = 17\n",
    "### Optimal threshold = -50\n",
    "### classification Accuracy = 100%"
   ]
  },
  {
   "cell_type": "code",
   "execution_count": null,
   "id": "8a5a6352",
   "metadata": {},
   "outputs": [],
   "source": []
  }
 ],
 "metadata": {
  "kernelspec": {
   "display_name": "Python 3 (ipykernel)",
   "language": "python",
   "name": "python3"
  },
  "language_info": {
   "codemirror_mode": {
    "name": "ipython",
    "version": 3
   },
   "file_extension": ".py",
   "mimetype": "text/x-python",
   "name": "python",
   "nbconvert_exporter": "python",
   "pygments_lexer": "ipython3",
   "version": "3.11.4"
  }
 },
 "nbformat": 4,
 "nbformat_minor": 5
}
